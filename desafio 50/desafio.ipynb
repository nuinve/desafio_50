{
 "cells": [
  {
   "cell_type": "markdown",
   "metadata": {},
   "source": [
    "Faça um programa em Python que conte o número de vogais em um arquivo de texto. As vogais devem ser contadas de forma individual. Use o texto anexado à atividade para fazer o desafio. Dica: Fique atento a letras com acentos."
   ]
  },
  {
   "cell_type": "code",
   "execution_count": 2,
   "metadata": {},
   "outputs": [
    {
     "name": "stdout",
     "output_type": "stream",
     "text": [
      "A vogal E apareceu 79 vezes.\n"
     ]
    }
   ],
   "source": [
    "from unicodedata import normalize\n",
    "#função normalize do módulo unicodedata para normalizar as strings.\n",
    "\n",
    "nome = \"exagerado_letra.txt\"\n",
    "letra = input(\"digite uma vogal para buscar no texto: \")\n",
    "\n",
    "arquivo = open(nome, \"r\", encoding=\"utf-8\")\n",
    "texto = arquivo.read()\n",
    "texto = texto.lower()\n",
    "\n",
    "# Normaliza o texto e a letra digitada\n",
    "# tem varios tipos de normalização, o NFKD define um especifico\n",
    "texto_normalizado = normalize('NFKD', texto)\n",
    "letra_normalizada = normalize('NFKD', letra)\n",
    "\n",
    "x = texto_normalizado.count(letra_normalizada)\n",
    "\n",
    "print(f\"A vogal {letra.upper()} apareceu {x} vezes.\")\n",
    "\n",
    "arquivo.close()"
   ]
  }
 ],
 "metadata": {
  "kernelspec": {
   "display_name": "Python 3",
   "language": "python",
   "name": "python3"
  },
  "language_info": {
   "codemirror_mode": {
    "name": "ipython",
    "version": 3
   },
   "file_extension": ".py",
   "mimetype": "text/x-python",
   "name": "python",
   "nbconvert_exporter": "python",
   "pygments_lexer": "ipython3",
   "version": "3.12.4"
  }
 },
 "nbformat": 4,
 "nbformat_minor": 2
}
